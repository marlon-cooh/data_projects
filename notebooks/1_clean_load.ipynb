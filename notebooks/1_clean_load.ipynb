{
 "cells": [
  {
   "cell_type": "code",
   "execution_count": null,
   "metadata": {},
   "outputs": [],
   "source": [
    "import pandas as pd\n",
    "import matplotlib.pyplot as plt\n",
    "#import nltk \n",
    "#from wordcloud import WordCloud"
   ]
  },
  {
   "cell_type": "markdown",
   "metadata": {},
   "source": [
    "Creating dataframes for each sheet name."
   ]
  },
  {
   "cell_type": "code",
   "execution_count": 3,
   "metadata": {},
   "outputs": [],
   "source": [
    "# Path \n",
    "excel_path = \"../data/raw/12_DICIEMBRE_2020.xlsx\"\n",
    "\n",
    "# Cleaning sheet_names names.\n",
    "sheet_names = pd.ExcelFile(path_or_buffer=excel_path).sheet_names[1:]\n",
    "sheet_refs = [ref.lower().replace(\" \", \"_\").replace(\".\", \"\") for ref in sheet_names]\n",
    "dataframes = {}\n",
    "\n",
    "for ref, name in zip(sheet_refs, sheet_names):\n",
    "    # Create dataframe\n",
    "    df = pd.read_excel(excel_path, sheet_name=name, skiprows=3)\n",
    "    dataframes[ref] = df "
   ]
  },
  {
   "cell_type": "code",
   "execution_count": 4,
   "metadata": {},
   "outputs": [],
   "source": [
    "for var_name, var_value in dataframes.items():\n",
    "    globals()[var_name] = var_value"
   ]
  }
 ],
 "metadata": {
  "kernelspec": {
   "display_name": "missing_values",
   "language": "python",
   "name": "python3"
  },
  "language_info": {
   "codemirror_mode": {
    "name": "ipython",
    "version": 3
   },
   "file_extension": ".py",
   "mimetype": "text/x-python",
   "name": "python",
   "nbconvert_exporter": "python",
   "pygments_lexer": "ipython3",
   "version": "3.9.18"
  }
 },
 "nbformat": 4,
 "nbformat_minor": 2
}
