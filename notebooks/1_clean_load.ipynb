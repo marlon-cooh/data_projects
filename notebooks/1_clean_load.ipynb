{
 "cells": [
  {
   "cell_type": "code",
   "execution_count": 12,
   "metadata": {},
   "outputs": [],
   "source": [
    "import pandas as pd"
   ]
  },
  {
   "cell_type": "markdown",
   "metadata": {},
   "source": [
    "Creating dataframes for each sheet name."
   ]
  },
  {
   "cell_type": "code",
   "execution_count": 13,
   "metadata": {},
   "outputs": [],
   "source": [
    "# Path \n",
    "excel_path = \"../data/raw/12_DICIEMBRE_2020.xlsx\"\n",
    "\n",
    "# Cleaning sheet_names names.\n",
    "sheet_names = pd.ExcelFile(path_or_buffer=excel_path).sheet_names[1:]\n",
    "sheet_refs = [ref.lower().replace(\" \", \"_\").replace(\".\", \"\") for ref in sheet_names]\n",
    "dataframes = {}\n",
    "\n",
    "for ref, name in zip(sheet_refs, sheet_names):\n",
    "    # Create dataframe\n",
    "    df = pd.read_excel(excel_path, sheet_name=name, skiprows=3, header=2)\n",
    "    df[\"SHEET\"] = name\n",
    "    dataframes[ref] = df "
   ]
  },
  {
   "cell_type": "code",
   "execution_count": 14,
   "metadata": {},
   "outputs": [],
   "source": [
    "# Creating variables based on new dataframes.\n",
    "for var_name, var_value in dataframes.items():\n",
    "    globals()[var_name] = var_value"
   ]
  },
  {
   "cell_type": "code",
   "execution_count": 15,
   "metadata": {},
   "outputs": [
    {
     "name": "stdout",
     "output_type": "stream",
     "text": [
      "contratistas_y_fdo_fed (805, 11)\n",
      "gastos_varios (814, 11)\n",
      "serv_pprof (17, 11)\n",
      "comunicacion (90, 11)\n",
      "serv_pers (48, 11)\n"
     ]
    }
   ],
   "source": [
    "for name, value in dataframes.items():\n",
    "    print(name, value.shape)"
   ]
  },
  {
   "cell_type": "code",
   "execution_count": 16,
   "metadata": {},
   "outputs": [
    {
     "data": {
      "text/html": [
       "<div>\n",
       "<style scoped>\n",
       "    .dataframe tbody tr th:only-of-type {\n",
       "        vertical-align: middle;\n",
       "    }\n",
       "\n",
       "    .dataframe tbody tr th {\n",
       "        vertical-align: top;\n",
       "    }\n",
       "\n",
       "    .dataframe thead th {\n",
       "        text-align: right;\n",
       "    }\n",
       "</style>\n",
       "<table border=\"1\" class=\"dataframe\">\n",
       "  <thead>\n",
       "    <tr style=\"text-align: right;\">\n",
       "      <th></th>\n",
       "      <th>NUM BEN</th>\n",
       "      <th>BENEFICIARIO</th>\n",
       "      <th>RFC</th>\n",
       "      <th>FACTURA</th>\n",
       "      <th>CONTRATO</th>\n",
       "      <th>CONCEPTO</th>\n",
       "      <th>TIPO</th>\n",
       "      <th># OP</th>\n",
       "      <th>FECHA</th>\n",
       "      <th>IMPORTE</th>\n",
       "      <th>SHEET</th>\n",
       "    </tr>\n",
       "  </thead>\n",
       "  <tbody>\n",
       "    <tr>\n",
       "      <th>0</th>\n",
       "      <td>112458</td>\n",
       "      <td>DISTRIBUIDORA DE FRUTAS Y LEGUMBRES LA HORTALI...</td>\n",
       "      <td>DFL900423676</td>\n",
       "      <td>C 14036-158003-5341</td>\n",
       "      <td>SADA/CC/185.3/2020</td>\n",
       "      <td>ADQUISICION DE INSUMOS PARA LA ALIMENTACION DE...</td>\n",
       "      <td>TR</td>\n",
       "      <td>301000037.0</td>\n",
       "      <td>2020-12-04</td>\n",
       "      <td>18368.04</td>\n",
       "      <td>CONTRATISTAS Y FDO FED</td>\n",
       "    </tr>\n",
       "    <tr>\n",
       "      <th>1</th>\n",
       "      <td>112458</td>\n",
       "      <td>DISTRIBUIDORA DE FRUTAS Y LEGUMBRES LA HORTALI...</td>\n",
       "      <td>DFL900423676</td>\n",
       "      <td>C 14038-158003-5345</td>\n",
       "      <td>SADA/CC/185.2/2020</td>\n",
       "      <td>ADQUISICION DE INSUMOS PARA LA ALIMENTACION DE...</td>\n",
       "      <td>TR</td>\n",
       "      <td>301000037.0</td>\n",
       "      <td>2020-12-04</td>\n",
       "      <td>174432.09</td>\n",
       "      <td>CONTRATISTAS Y FDO FED</td>\n",
       "    </tr>\n",
       "    <tr>\n",
       "      <th>2</th>\n",
       "      <td>112458</td>\n",
       "      <td>DISTRIBUIDORA DE FRUTAS Y LEGUMBRES LA HORTALI...</td>\n",
       "      <td>DFL900423676</td>\n",
       "      <td>C14046-158003-5661</td>\n",
       "      <td>SADA/CC/205/2020</td>\n",
       "      <td>ADQUISICION DE INSUMOS PARA LA ALIMENTACION DE...</td>\n",
       "      <td>TR</td>\n",
       "      <td>300000119.0</td>\n",
       "      <td>2020-12-11</td>\n",
       "      <td>175270.39</td>\n",
       "      <td>CONTRATISTAS Y FDO FED</td>\n",
       "    </tr>\n",
       "    <tr>\n",
       "      <th>3</th>\n",
       "      <td>Total 112458</td>\n",
       "      <td>NaN</td>\n",
       "      <td>NaN</td>\n",
       "      <td>NaN</td>\n",
       "      <td>NaN</td>\n",
       "      <td>NaN</td>\n",
       "      <td>NaN</td>\n",
       "      <td>NaN</td>\n",
       "      <td>NaT</td>\n",
       "      <td>368070.52</td>\n",
       "      <td>CONTRATISTAS Y FDO FED</td>\n",
       "    </tr>\n",
       "    <tr>\n",
       "      <th>4</th>\n",
       "      <td>113412</td>\n",
       "      <td>EMPACADORA Y DISTR.DE CARNES FINAS SAN JUAN,S....</td>\n",
       "      <td>EDC011123R22</td>\n",
       "      <td>EB170475-158003-5320</td>\n",
       "      <td>ORDEN DE COMPRA 6541</td>\n",
       "      <td>ADQUISICION DE INSUMOS PARA LA ALIMENTACION DE...</td>\n",
       "      <td>TR</td>\n",
       "      <td>300000116.0</td>\n",
       "      <td>2020-12-04</td>\n",
       "      <td>183258.00</td>\n",
       "      <td>CONTRATISTAS Y FDO FED</td>\n",
       "    </tr>\n",
       "  </tbody>\n",
       "</table>\n",
       "</div>"
      ],
      "text/plain": [
       "        NUM BEN                                       BENEFICIARIO  \\\n",
       "0        112458  DISTRIBUIDORA DE FRUTAS Y LEGUMBRES LA HORTALI...   \n",
       "1        112458  DISTRIBUIDORA DE FRUTAS Y LEGUMBRES LA HORTALI...   \n",
       "2        112458  DISTRIBUIDORA DE FRUTAS Y LEGUMBRES LA HORTALI...   \n",
       "3  Total 112458                                                NaN   \n",
       "4        113412  EMPACADORA Y DISTR.DE CARNES FINAS SAN JUAN,S....   \n",
       "\n",
       "            RFC               FACTURA              CONTRATO  \\\n",
       "0  DFL900423676   C 14036-158003-5341    SADA/CC/185.3/2020   \n",
       "1  DFL900423676   C 14038-158003-5345    SADA/CC/185.2/2020   \n",
       "2  DFL900423676    C14046-158003-5661      SADA/CC/205/2020   \n",
       "3           NaN                   NaN                   NaN   \n",
       "4  EDC011123R22  EB170475-158003-5320  ORDEN DE COMPRA 6541   \n",
       "\n",
       "                                            CONCEPTO TIPO         # OP  \\\n",
       "0  ADQUISICION DE INSUMOS PARA LA ALIMENTACION DE...   TR  301000037.0   \n",
       "1  ADQUISICION DE INSUMOS PARA LA ALIMENTACION DE...   TR  301000037.0   \n",
       "2  ADQUISICION DE INSUMOS PARA LA ALIMENTACION DE...   TR  300000119.0   \n",
       "3                                                NaN  NaN          NaN   \n",
       "4  ADQUISICION DE INSUMOS PARA LA ALIMENTACION DE...   TR  300000116.0   \n",
       "\n",
       "       FECHA    IMPORTE                   SHEET  \n",
       "0 2020-12-04   18368.04  CONTRATISTAS Y FDO FED  \n",
       "1 2020-12-04  174432.09  CONTRATISTAS Y FDO FED  \n",
       "2 2020-12-11  175270.39  CONTRATISTAS Y FDO FED  \n",
       "3        NaT  368070.52  CONTRATISTAS Y FDO FED  \n",
       "4 2020-12-04  183258.00  CONTRATISTAS Y FDO FED  "
      ]
     },
     "execution_count": 16,
     "metadata": {},
     "output_type": "execute_result"
    }
   ],
   "source": [
    "treasury_purchases = pd.concat(list(dataframes.values()))\n",
    "treasury_purchases.head()"
   ]
  },
  {
   "cell_type": "code",
   "execution_count": 17,
   "metadata": {},
   "outputs": [],
   "source": [
    "treasury_purchases.dropna(how=\"any\", inplace=True)"
   ]
  },
  {
   "cell_type": "code",
   "execution_count": 18,
   "metadata": {},
   "outputs": [],
   "source": [
    "# Datetime datatype\n",
    "treasury_purchases[\"MES\"] = treasury_purchases.FECHA.dt.month\n",
    "treasury_purchases[\"DIA\"] = treasury_purchases.FECHA.dt.day"
   ]
  },
  {
   "cell_type": "code",
   "execution_count": 19,
   "metadata": {},
   "outputs": [],
   "source": [
    "treasury_purchases.to_csv(\"../data/raw/clean_treasury.csv\", index=None)"
   ]
  }
 ],
 "metadata": {
  "kernelspec": {
   "display_name": "missing_values",
   "language": "python",
   "name": "python3"
  },
  "language_info": {
   "codemirror_mode": {
    "name": "ipython",
    "version": 3
   },
   "file_extension": ".py",
   "mimetype": "text/x-python",
   "name": "python",
   "nbconvert_exporter": "python",
   "pygments_lexer": "ipython3",
   "version": "3.9.18"
  }
 },
 "nbformat": 4,
 "nbformat_minor": 2
}
