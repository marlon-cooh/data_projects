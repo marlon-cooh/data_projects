{
 "cells": [
  {
   "cell_type": "code",
   "execution_count": 82,
   "metadata": {},
   "outputs": [],
   "source": [
    "import pandas as pd"
   ]
  },
  {
   "cell_type": "markdown",
   "metadata": {},
   "source": [
    "Here we include how many times `BENEFICIARIO` repeats within dataset, also, an average expenditure by category from `SHEET`."
   ]
  },
  {
   "cell_type": "code",
   "execution_count": 36,
   "metadata": {},
   "outputs": [],
   "source": [
    "treasury_purchase = pd.read_csv(\"../data/processed/clean_treasury.csv\")"
   ]
  },
  {
   "cell_type": "code",
   "execution_count": 37,
   "metadata": {},
   "outputs": [],
   "source": [
    "beneficiario_sales = treasury_purchase[\"BENEFICIARIO\"].value_counts().to_dict()\n",
    "treasury_purchase[\"BENEFICIARIO_SALES\"] = treasury_purchase[\"BENEFICIARIO\"].apply(lambda x: beneficiario_sales[x])"
   ]
  },
  {
   "cell_type": "code",
   "execution_count": 38,
   "metadata": {},
   "outputs": [
    {
     "data": {
      "text/plain": [
       "{'COMUNICACION': 109705.34366197183,\n",
       " 'CONTRATISTAS Y FDO FED': 474566.76578729285,\n",
       " 'GASTOS VARIOS': 881659.7317971016,\n",
       " 'SERV PPROF': 229592.16666666666,\n",
       " 'SERV. PERS.': 59623.40521739131}"
      ]
     },
     "execution_count": 38,
     "metadata": {},
     "output_type": "execute_result"
    }
   ],
   "source": [
    "mean_expenditure_sheet = treasury_purchase.groupby(by='SHEET')['IMPORTE'].mean().to_dict()\n",
    "mean_expenditure_sheet"
   ]
  },
  {
   "cell_type": "code",
   "execution_count": 39,
   "metadata": {},
   "outputs": [],
   "source": [
    "treasury_purchase[\"IMPORTE_MEDIO\"] = treasury_purchase[\"SHEET\"].apply(lambda x: mean_expenditure_sheet[x])"
   ]
  },
  {
   "cell_type": "code",
   "execution_count": 40,
   "metadata": {},
   "outputs": [],
   "source": [
    "# Sorting for a better view.\n",
    "treasury_purchase = treasury_purchase[[\"NUM BEN\", \"BENEFICIARIO\", \"RFC\", \"FACTURA\", \"CONTRATO\", \"CONCEPTO\", \"TIPO\", \"# OP\", \"FECHA\", \"MES\", \"DIA\", \"SHEET\", \"IMPORTE\", \"BENEFICIARIO_SALES\", \"IMPORTE_MEDIO\"]]"
   ]
  },
  {
   "cell_type": "markdown",
   "metadata": {},
   "source": [
    "#### Matching `BENEFICIARIO` with Linkedin database."
   ]
  },
  {
   "cell_type": "code",
   "execution_count": 42,
   "metadata": {},
   "outputs": [],
   "source": [
    "unique_beneficiarios = pd.DataFrame(treasury_purchase['BENEFICIARIO'].unique()).rename(columns={0:\"BENEFICIARIO\"})\n",
    "unique_beneficiarios.to_csv(\"../data/processed/unique_beneficiarios.csv\", index=None)"
   ]
  },
  {
   "cell_type": "code",
   "execution_count": 50,
   "metadata": {},
   "outputs": [],
   "source": [
    "# Load from Linkedin scraping.\n",
    "linkedin_mty = pd.read_csv(\"../data/processed/linkedin_mty.csv\")\n",
    "linkedin_mty.fillna(True, inplace=True)"
   ]
  },
  {
   "cell_type": "code",
   "execution_count": 74,
   "metadata": {},
   "outputs": [],
   "source": [
    "has_site = {}\n",
    "for i, ele in linkedin_mty.iterrows():\n",
    "    has_site[ele['query']] = True if ele['error'] == True else False"
   ]
  },
  {
   "cell_type": "code",
   "execution_count": 77,
   "metadata": {},
   "outputs": [],
   "source": [
    "treasury_purchase[\"HAS_LINKEDIN_SITE\"] = treasury_purchase[\"BENEFICIARIO\"].apply(lambda x: has_site[x.replace(\"  \", \" \")])"
   ]
  },
  {
   "cell_type": "markdown",
   "metadata": {},
   "source": [
    "Exporting dataset with data enrichment."
   ]
  },
  {
   "cell_type": "code",
   "execution_count": 81,
   "metadata": {},
   "outputs": [],
   "source": [
    "treasury_purchase.to_csv(\"../data/processed/enriched.csv\", index=None)"
   ]
  }
 ],
 "metadata": {
  "kernelspec": {
   "display_name": "missing_values",
   "language": "python",
   "name": "python3"
  },
  "language_info": {
   "codemirror_mode": {
    "name": "ipython",
    "version": 3
   },
   "file_extension": ".py",
   "mimetype": "text/x-python",
   "name": "python",
   "nbconvert_exporter": "python",
   "pygments_lexer": "ipython3",
   "version": "3.9.18"
  }
 },
 "nbformat": 4,
 "nbformat_minor": 2
}
